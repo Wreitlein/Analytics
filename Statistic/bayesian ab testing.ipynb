{
 "cells": [
  {
   "cell_type": "code",
   "execution_count": 42,
   "id": "9ee88eaa",
   "metadata": {},
   "outputs": [
    {
     "name": "stdout",
     "output_type": "stream",
     "text": [
      "Test option lift Conversion Rates by 10.67% with 100.0% probability.\n"
     ]
    },
    {
     "data": {
      "image/png": "[encoded data removed]",
      "text/plain": [
       "<Figure size 432x288 with 1 Axes>"
      ]
     },
     "metadata": {
      "needs_background": "light"
     },
     "output_type": "display_data"
    }
   ],
   "source": [
    "from scipy.stats import beta\n",
    "import numpy as np\n",
    "from math import lgamma\n",
    "from numba import jit\n",
    "import matplotlib.pyplot as plt\n",
    "\n",
    "@jit\n",
    "def h(a, b, c, d):\n",
    "    num = lgamma(a + c) + lgamma(b + d) + lgamma(a + b) + lgamma(c + d)\n",
    "    den = lgamma(a) + lgamma(b) + lgamma(c) + lgamma(d) + lgamma(a + b + c + d)\n",
    "    return np.exp(num - den)\n",
    "\n",
    "@jit\n",
    "def g0(a, b, c):    \n",
    "    return np.exp(lgamma(a + b) + lgamma(a + c) - (lgamma(a + b + c) + lgamma(a)))\n",
    "\n",
    "@jit\n",
    "def hiter(a, b, c, d):\n",
    "    while d > 1:\n",
    "        d -= 1\n",
    "        yield h(a, b, c, d) / d\n",
    "\n",
    "def g(a, b, c, d):\n",
    "    return g0(a, b, c) + sum(hiter(a, b, c, d))\n",
    "\n",
    "def calc_prob_between(beta1, beta2):\n",
    "    return g(beta1.args[0], beta1.args[1], beta2.args[0], beta2.args[1])\n",
    "\n",
    "def calc_beta_mode(a, b):\n",
    "    '''this function calculate the mode (peak) of the Beta distribution'''\n",
    "    return (a-1)/(a+b-2)\n",
    "\n",
    "def plot(betas, names, linf=0, lsup=0.01):\n",
    "    '''this function plots the Beta distribution'''\n",
    "    x=np.linspace(linf,lsup, 100)\n",
    "    for f, name in zip(betas,names) :\n",
    "        y=f.pdf(x) #this for calculate the value for the PDF at the specified x-points\n",
    "        y_mode=calc_beta_mode(f.args[0], f.args[1])\n",
    "        y_var=f.var() # the variance of the Beta distribution\n",
    "        plt.plot(x,y, label=f\"{name} sample, conversion rate: {y_mode*100:2.2f}% $\\pm$ {y_var:0.1E}\")\n",
    "        plt.yticks([])\n",
    "    plt.legend()\n",
    "    plt.show()\n",
    "    \n",
    "################################  \n",
    "imps_ctrl, convs_ctrl=373058, 7180\n",
    "imps_test, convs_test=384041, 8180\n",
    "\n",
    "a_C, b_C = convs_ctrl+1, imps_ctrl-convs_ctrl+1\n",
    "beta_C = beta(a_C, b_C)\n",
    "a_T, b_T = convs_test+1, imps_test-convs_test+1\n",
    "beta_T = beta(a_T, b_T)\n",
    "\n",
    "#calculating the lift\n",
    "lift=(beta_T.mean()-beta_C.mean())/beta_C.mean()\n",
    "\n",
    "#calculating the probability for Test to be better than Control\n",
    "prob=calc_prob_between(beta_T, beta_C)\n",
    "\n",
    "print (f\"Test option lift Conversion Rates by {lift*100:2.2f}% with {prob*100:2.1f}% probability.\")\n",
    "plot([beta_C, beta_T], names=[\"Control\", \"Test\"], linf=0.0175, lsup=0.0250)"
   ]
  }
 ],
 "metadata": {
  "kernelspec": {
   "display_name": "Python 3 (ipykernel)",
   "language": "python",
   "name": "python3"
  },
  "language_info": {
   "codemirror_mode": {
    "name": "ipython",
    "version": 3
   },
   "file_extension": ".py",
   "mimetype": "text/x-python",
   "name": "python",
   "nbconvert_exporter": "python",
   "pygments_lexer": "ipython3",
   "version": "3.9.7"
  }
 },
 "nbformat": 4,
 "nbformat_minor": 5
}
