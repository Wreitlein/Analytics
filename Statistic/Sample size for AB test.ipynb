{
 "cells": [
  {
   "cell_type": "code",
   "execution_count": 1,
   "metadata": {
    "cellView": "form",
    "colab": {
     "base_uri": "https://localhost:8080/"
    },
    "id": "jYTbmMWZNxuE",
    "outputId": "8553ac9d-29ca-4b18-f86d-b1b6a5577c35"
   },
   "outputs": [],
   "source": [
    "import math\n",
    "import pandas as pd\n",
    "from statsmodels.stats.power import tt_ind_solve_power \n",
    "\n",
    "import numpy as np\n",
    "import statsmodels.stats.power as smp\n",
    "from tqdm.auto import tqdm\n",
    "import matplotlib.pyplot as plt\n",
    "import seaborn as sns\n",
    "\n",
    "plt.style.use('ggplot')"
   ]
  },
  {
   "cell_type": "markdown",
   "metadata": {
    "id": "pSJeaJtZVheo"
   },
   "source": [
    "# Рассчет размера выборки\n",
    "\n",
    "\n",
    "\n"
   ]
  },
  {
   "cell_type": "markdown",
   "metadata": {
    "id": "Rs-e_rm2PgWl"
   },
   "source": [
    "Введите базовую конверсию **basic_conversion** - в %\n",
    "\n",
    "Желаемый уровень мощности **power** - в % (Больше 80%)\n",
    "\n",
    "**Alpha**  - (не может быть больше 0.05)\n",
    "\n",
    "А теперь устанавливаем для каких MDE надо рассчитать размер выборки:\n",
    "\n",
    "**begin** - в % (то есть, рассчитываем на повышение конверсии на минимум 10%)\n",
    "\n",
    "**to** - в % (то есть, рассчитываем на повышение конверсии на максимум 50%)\n",
    "\n",
    "**step** - в% (нас интересует размер выборки, если планирует увеличить конверсию на 10%, 15%, 20%...50% (с 5% шагом)"
   ]
  },
  {
   "cell_type": "code",
   "execution_count": 2,
   "metadata": {
    "cellView": "form",
    "id": "VDZ_fgyvM57B"
   },
   "outputs": [],
   "source": [
    "basic_conversion =  52\n",
    "power =  80\n",
    "alpha = 0.05\n",
    "begin =  5\n",
    "to =  30\n",
    "step =  5\n",
    "res=pd.DataFrame()\n",
    "for i in range(begin, to+1, step):\n",
    "    p_y = basic_conversion/100*(1+i/100)\n",
    "    h = 2*math.asin(np.sqrt(basic_conversion/100)) - 2*math.asin(np.sqrt(p_y))\n",
    "    sample_size=smp.zt_ind_solve_power(effect_size = h, alpha = alpha, power = power/100, alternative='two-sided')\n",
    "    to_insert = {\n",
    "         \"mde\": int(i),\n",
    "        \"sample_size_variation\": int(sample_size),\n",
    "        \"sample_size_test\": int(sample_size)*2\n",
    "       \n",
    "    }\n",
    "    \n",
    "    res = res.append(to_insert, ignore_index=True)"
   ]
  },
  {
   "cell_type": "code",
   "execution_count": 3,
   "metadata": {
    "cellView": "form",
    "colab": {
     "base_uri": "https://localhost:8080/",
     "height": 112
    },
    "id": "vLhwCEBENEhQ",
    "outputId": "48bc8558-aa3b-4acf-e256-ee15b5dc67fb"
   },
   "outputs": [
    {
     "data": {
      "text/html": [
       "<div>\n",
       "<style scoped>\n",
       "    .dataframe tbody tr th:only-of-type {\n",
       "        vertical-align: middle;\n",
       "    }\n",
       "\n",
       "    .dataframe tbody tr th {\n",
       "        vertical-align: top;\n",
       "    }\n",
       "\n",
       "    .dataframe thead th {\n",
       "        text-align: right;\n",
       "    }\n",
       "</style>\n",
       "<table border=\"1\" class=\"dataframe\">\n",
       "  <thead>\n",
       "    <tr style=\"text-align: right;\">\n",
       "      <th>mde</th>\n",
       "      <th>5.0</th>\n",
       "      <th>10.0</th>\n",
       "      <th>15.0</th>\n",
       "      <th>20.0</th>\n",
       "      <th>25.0</th>\n",
       "      <th>30.0</th>\n",
       "    </tr>\n",
       "  </thead>\n",
       "  <tbody>\n",
       "    <tr>\n",
       "      <th>sample_size_variation</th>\n",
       "      <td>5778.0</td>\n",
       "      <td>1437.0</td>\n",
       "      <td>634.0</td>\n",
       "      <td>353.0</td>\n",
       "      <td>224.0</td>\n",
       "      <td>153.0</td>\n",
       "    </tr>\n",
       "    <tr>\n",
       "      <th>sample_size_test</th>\n",
       "      <td>11556.0</td>\n",
       "      <td>2874.0</td>\n",
       "      <td>1268.0</td>\n",
       "      <td>706.0</td>\n",
       "      <td>448.0</td>\n",
       "      <td>306.0</td>\n",
       "    </tr>\n",
       "  </tbody>\n",
       "</table>\n",
       "</div>"
      ],
      "text/plain": [
       "mde                       5.0     10.0    15.0   20.0   25.0   30.0\n",
       "sample_size_variation   5778.0  1437.0   634.0  353.0  224.0  153.0\n",
       "sample_size_test       11556.0  2874.0  1268.0  706.0  448.0  306.0"
      ]
     },
     "execution_count": 3,
     "metadata": {},
     "output_type": "execute_result"
    }
   ],
   "source": [
    "res.set_index('mde').T"
   ]
  },
  {
   "cell_type": "markdown",
   "metadata": {
    "id": "TRElOWe6xwYc"
   },
   "source": [
    "# Рассчет мощности исходя из желаемого лифта и sample size (t-student)"
   ]
  },
  {
   "cell_type": "markdown",
   "metadata": {
    "id": "vUmq888n1QNi"
   },
   "source": [
    "### Если у вас биномиальное распределение, поставьте в поле std 0\n",
    "\n",
    "### В случае, если у вас не биномиальное распределение, а близко к нормальному вам нужно рассчитать стандартное отклонение. Или просто введите в поле std ваше значение.\n",
    "\n",
    "\n",
    "Рассчитать можно по формуле ниже, просто подставьте массив  с вашими данными. Или переходите к следующему шагу\n"
   ]
  },
  {
   "cell_type": "code",
   "execution_count": 4,
   "metadata": {
    "colab": {
     "base_uri": "https://localhost:8080/",
     "height": 186
    },
    "id": "chF-gbT62IcY",
    "outputId": "c6810d48-2842-4e5b-bbe5-4afce8598d28"
   },
   "outputs": [
    {
     "ename": "NameError",
     "evalue": "name 'df' is not defined",
     "output_type": "error",
     "traceback": [
      "\u001b[0;31m---------------------------------------------------------------------------\u001b[0m",
      "\u001b[0;31mNameError\u001b[0m                                 Traceback (most recent call last)",
      "\u001b[0;32m/var/folders/96/ndqtpvmj73z5m_qf93fm8fhw0000gp/T/ipykernel_26371/26503589.py\u001b[0m in \u001b[0;36m<module>\u001b[0;34m\u001b[0m\n\u001b[0;32m----> 1\u001b[0;31m \u001b[0mdata\u001b[0m\u001b[0;34m=\u001b[0m\u001b[0mpd\u001b[0m\u001b[0;34m.\u001b[0m\u001b[0mSeries\u001b[0m\u001b[0;34m(\u001b[0m\u001b[0mdf\u001b[0m\u001b[0;34m.\u001b[0m\u001b[0mcolumn\u001b[0m\u001b[0;34m)\u001b[0m\u001b[0;34m\u001b[0m\u001b[0;34m\u001b[0m\u001b[0m\n\u001b[0m\u001b[1;32m      2\u001b[0m \u001b[0mdata\u001b[0m\u001b[0;34m.\u001b[0m\u001b[0mstd\u001b[0m\u001b[0;34m(\u001b[0m\u001b[0;34m)\u001b[0m\u001b[0;34m\u001b[0m\u001b[0;34m\u001b[0m\u001b[0m\n",
      "\u001b[0;31mNameError\u001b[0m: name 'df' is not defined"
     ]
    }
   ],
   "source": [
    "data=pd.Series(df.column)\n",
    "data.std()"
   ]
  },
  {
   "cell_type": "markdown",
   "metadata": {
    "id": "dI6v1eGt5HEw"
   },
   "source": [
    "Введите базовую конверсию **basic_conversion** - в десятичном формате (то есть. если конверсия 2% - вводите 0.02)\n",
    "\n",
    "**Alpha** - (не может быть больше 0.05)\n",
    "\n",
    "Определяем, в каких пределах будем считать мощность:\n",
    "\n",
    "**Min_sample** -  минимальный размер выборки для теста\n",
    "\n",
    "**Max_sample** -  максимальный размер выборки для теста\n",
    "\n",
    "**step_sample** - шаг для выборки\n",
    "\n",
    "**Min_lift** -  минимальный лифт\n",
    "\n",
    "**Max_lift** -  максимальный лифт\n",
    "\n",
    "**step_lift** - шаг для лифта\n",
    "\n",
    "**std** - стандартное отклонение (в случае биномиального распределения поставьте 0 либо свое рассчитанное значение)"
   ]
  },
  {
   "cell_type": "code",
   "execution_count": 8,
   "metadata": {
    "id": "ydzdB1gEVyEX"
   },
   "outputs": [],
   "source": [
    "basic_conversion = 0.17\n",
    "alpha = 0.05\n",
    "min_sample =  1000\n",
    "max_sample = 3000\n",
    "step_sample = 500\n",
    "min_lift = 10\n",
    "max_lift =  25\n",
    "step_lift = 1\n",
    "std = 0\n",
    "res2=pd.DataFrame()\n",
    "\n",
    "if std==0:\n",
    "  se = np.sqrt(basic_conversion*(1-basic_conversion))\n",
    "else: \n",
    "  se=std\n",
    "for i in range(min_sample, max_sample+1, step_sample):\n",
    "    for lift in range(min_lift, max_lift+1, step_lift):\n",
    "        effect_size = basic_conversion/se * (lift/100)\n",
    "        power=tt_ind_solve_power(effect_size=effect_size, alpha=alpha,  nobs1=i/2)\n",
    "    \n",
    "        to_insert = {\n",
    "            \"sample_size_test\": round(i),\n",
    "            \"power\": power,\n",
    "            \"lift\": lift\n",
    "    }\n",
    "        res2 = res2.append(to_insert, ignore_index=True)"
   ]
  },
  {
   "cell_type": "code",
   "execution_count": 9,
   "metadata": {
    "cellView": "form",
    "id": "DL7KZCoNXUf6"
   },
   "outputs": [],
   "source": [
    "res3=pd.pivot_table(res2, values='power', index=['sample_size_test'],\n",
    "                    columns=['lift'], aggfunc=np.sum)\n",
    "\n",
    "\n"
   ]
  },
  {
   "cell_type": "code",
   "execution_count": 10,
   "metadata": {
    "cellView": "form",
    "colab": {
     "base_uri": "https://localhost:8080/",
     "height": 237
    },
    "id": "BiqgA2crsAAI",
    "outputId": "9871ac16-d07b-4d7a-8f00-21b8bda1cee8"
   },
   "outputs": [
    {
     "data": {
      "text/html": [
       "<style type=\"text/css\">\n",
       "#T_87589_row0_col0, #T_87589_row0_col1, #T_87589_row0_col2, #T_87589_row0_col3, #T_87589_row0_col4, #T_87589_row0_col5, #T_87589_row0_col6, #T_87589_row0_col7, #T_87589_row0_col8, #T_87589_row0_col9, #T_87589_row0_col10, #T_87589_row0_col11, #T_87589_row0_col12, #T_87589_row0_col13, #T_87589_row0_col14, #T_87589_row0_col15, #T_87589_row1_col0, #T_87589_row1_col1, #T_87589_row1_col2, #T_87589_row1_col3, #T_87589_row1_col4, #T_87589_row1_col5, #T_87589_row1_col6, #T_87589_row1_col7, #T_87589_row1_col8, #T_87589_row1_col9, #T_87589_row1_col10, #T_87589_row1_col11, #T_87589_row1_col12, #T_87589_row1_col13, #T_87589_row1_col14, #T_87589_row1_col15, #T_87589_row2_col0, #T_87589_row2_col1, #T_87589_row2_col2, #T_87589_row2_col3, #T_87589_row2_col4, #T_87589_row2_col5, #T_87589_row2_col6, #T_87589_row2_col7, #T_87589_row2_col8, #T_87589_row2_col9, #T_87589_row2_col10, #T_87589_row2_col11, #T_87589_row2_col12, #T_87589_row2_col13, #T_87589_row2_col14, #T_87589_row2_col15, #T_87589_row3_col0, #T_87589_row3_col1, #T_87589_row3_col2, #T_87589_row3_col3, #T_87589_row3_col4, #T_87589_row3_col5, #T_87589_row3_col6, #T_87589_row3_col7, #T_87589_row3_col8, #T_87589_row3_col9, #T_87589_row3_col10, #T_87589_row3_col11, #T_87589_row3_col12, #T_87589_row3_col13, #T_87589_row3_col14, #T_87589_row4_col0, #T_87589_row4_col1, #T_87589_row4_col2, #T_87589_row4_col3, #T_87589_row4_col4, #T_87589_row4_col5, #T_87589_row4_col6, #T_87589_row4_col7, #T_87589_row4_col8, #T_87589_row4_col9, #T_87589_row4_col10, #T_87589_row4_col11, #T_87589_row4_col12 {\n",
       "  color: black;\n",
       "}\n",
       "#T_87589_row3_col15, #T_87589_row4_col13, #T_87589_row4_col14, #T_87589_row4_col15 {\n",
       "  color: limegreen;\n",
       "}\n",
       "</style>\n",
       "<table id=\"T_87589_\">\n",
       "  <thead>\n",
       "    <tr>\n",
       "      <th class=\"index_name level0\" >lift</th>\n",
       "      <th class=\"col_heading level0 col0\" >10.0</th>\n",
       "      <th class=\"col_heading level0 col1\" >11.0</th>\n",
       "      <th class=\"col_heading level0 col2\" >12.0</th>\n",
       "      <th class=\"col_heading level0 col3\" >13.0</th>\n",
       "      <th class=\"col_heading level0 col4\" >14.0</th>\n",
       "      <th class=\"col_heading level0 col5\" >15.0</th>\n",
       "      <th class=\"col_heading level0 col6\" >16.0</th>\n",
       "      <th class=\"col_heading level0 col7\" >17.0</th>\n",
       "      <th class=\"col_heading level0 col8\" >18.0</th>\n",
       "      <th class=\"col_heading level0 col9\" >19.0</th>\n",
       "      <th class=\"col_heading level0 col10\" >20.0</th>\n",
       "      <th class=\"col_heading level0 col11\" >21.0</th>\n",
       "      <th class=\"col_heading level0 col12\" >22.0</th>\n",
       "      <th class=\"col_heading level0 col13\" >23.0</th>\n",
       "      <th class=\"col_heading level0 col14\" >24.0</th>\n",
       "      <th class=\"col_heading level0 col15\" >25.0</th>\n",
       "    </tr>\n",
       "    <tr>\n",
       "      <th class=\"index_name level0\" >sample_size_test</th>\n",
       "      <th class=\"blank col0\" >&nbsp;</th>\n",
       "      <th class=\"blank col1\" >&nbsp;</th>\n",
       "      <th class=\"blank col2\" >&nbsp;</th>\n",
       "      <th class=\"blank col3\" >&nbsp;</th>\n",
       "      <th class=\"blank col4\" >&nbsp;</th>\n",
       "      <th class=\"blank col5\" >&nbsp;</th>\n",
       "      <th class=\"blank col6\" >&nbsp;</th>\n",
       "      <th class=\"blank col7\" >&nbsp;</th>\n",
       "      <th class=\"blank col8\" >&nbsp;</th>\n",
       "      <th class=\"blank col9\" >&nbsp;</th>\n",
       "      <th class=\"blank col10\" >&nbsp;</th>\n",
       "      <th class=\"blank col11\" >&nbsp;</th>\n",
       "      <th class=\"blank col12\" >&nbsp;</th>\n",
       "      <th class=\"blank col13\" >&nbsp;</th>\n",
       "      <th class=\"blank col14\" >&nbsp;</th>\n",
       "      <th class=\"blank col15\" >&nbsp;</th>\n",
       "    </tr>\n",
       "  </thead>\n",
       "  <tbody>\n",
       "    <tr>\n",
       "      <th id=\"T_87589_level0_row0\" class=\"row_heading level0 row0\" >1000.0</th>\n",
       "      <td id=\"T_87589_row0_col0\" class=\"data row0 col0\" >0.110290</td>\n",
       "      <td id=\"T_87589_row0_col1\" class=\"data row0 col1\" >0.123293</td>\n",
       "      <td id=\"T_87589_row0_col2\" class=\"data row0 col2\" >0.137627</td>\n",
       "      <td id=\"T_87589_row0_col3\" class=\"data row0 col3\" >0.153292</td>\n",
       "      <td id=\"T_87589_row0_col4\" class=\"data row0 col4\" >0.170283</td>\n",
       "      <td id=\"T_87589_row0_col5\" class=\"data row0 col5\" >0.188582</td>\n",
       "      <td id=\"T_87589_row0_col6\" class=\"data row0 col6\" >0.208164</td>\n",
       "      <td id=\"T_87589_row0_col7\" class=\"data row0 col7\" >0.228988</td>\n",
       "      <td id=\"T_87589_row0_col8\" class=\"data row0 col8\" >0.251004</td>\n",
       "      <td id=\"T_87589_row0_col9\" class=\"data row0 col9\" >0.274147</td>\n",
       "      <td id=\"T_87589_row0_col10\" class=\"data row0 col10\" >0.298340</td>\n",
       "      <td id=\"T_87589_row0_col11\" class=\"data row0 col11\" >0.323493</td>\n",
       "      <td id=\"T_87589_row0_col12\" class=\"data row0 col12\" >0.349505</td>\n",
       "      <td id=\"T_87589_row0_col13\" class=\"data row0 col13\" >0.376262</td>\n",
       "      <td id=\"T_87589_row0_col14\" class=\"data row0 col14\" >0.403643</td>\n",
       "      <td id=\"T_87589_row0_col15\" class=\"data row0 col15\" >0.431515</td>\n",
       "    </tr>\n",
       "    <tr>\n",
       "      <th id=\"T_87589_level0_row1\" class=\"row_heading level0 row1\" >1500.0</th>\n",
       "      <td id=\"T_87589_row1_col0\" class=\"data row1 col0\" >0.141439</td>\n",
       "      <td id=\"T_87589_row1_col1\" class=\"data row1 col1\" >0.161224</td>\n",
       "      <td id=\"T_87589_row1_col2\" class=\"data row1 col2\" >0.182987</td>\n",
       "      <td id=\"T_87589_row1_col3\" class=\"data row1 col3\" >0.206688</td>\n",
       "      <td id=\"T_87589_row1_col4\" class=\"data row1 col4\" >0.232258</td>\n",
       "      <td id=\"T_87589_row1_col5\" class=\"data row1 col5\" >0.259602</td>\n",
       "      <td id=\"T_87589_row1_col6\" class=\"data row1 col6\" >0.288596</td>\n",
       "      <td id=\"T_87589_row1_col7\" class=\"data row1 col7\" >0.319086</td>\n",
       "      <td id=\"T_87589_row1_col8\" class=\"data row1 col8\" >0.350892</td>\n",
       "      <td id=\"T_87589_row1_col9\" class=\"data row1 col9\" >0.383807</td>\n",
       "      <td id=\"T_87589_row1_col10\" class=\"data row1 col10\" >0.417603</td>\n",
       "      <td id=\"T_87589_row1_col11\" class=\"data row1 col11\" >0.452033</td>\n",
       "      <td id=\"T_87589_row1_col12\" class=\"data row1 col12\" >0.486838</td>\n",
       "      <td id=\"T_87589_row1_col13\" class=\"data row1 col13\" >0.521750</td>\n",
       "      <td id=\"T_87589_row1_col14\" class=\"data row1 col14\" >0.556501</td>\n",
       "      <td id=\"T_87589_row1_col15\" class=\"data row1 col15\" >0.590825</td>\n",
       "    </tr>\n",
       "    <tr>\n",
       "      <th id=\"T_87589_level0_row2\" class=\"row_heading level0 row2\" >2000.0</th>\n",
       "      <td id=\"T_87589_row2_col0\" class=\"data row2 col0\" >0.172926</td>\n",
       "      <td id=\"T_87589_row2_col1\" class=\"data row2 col1\" >0.199468</td>\n",
       "      <td id=\"T_87589_row2_col2\" class=\"data row2 col2\" >0.228533</td>\n",
       "      <td id=\"T_87589_row2_col3\" class=\"data row2 col3\" >0.259983</td>\n",
       "      <td id=\"T_87589_row2_col4\" class=\"data row2 col4\" >0.293630</td>\n",
       "      <td id=\"T_87589_row2_col5\" class=\"data row2 col5\" >0.329234</td>\n",
       "      <td id=\"T_87589_row2_col6\" class=\"data row2 col6\" >0.366506</td>\n",
       "      <td id=\"T_87589_row2_col7\" class=\"data row2 col7\" >0.405115</td>\n",
       "      <td id=\"T_87589_row2_col8\" class=\"data row2 col8\" >0.444692</td>\n",
       "      <td id=\"T_87589_row2_col9\" class=\"data row2 col9\" >0.484843</td>\n",
       "      <td id=\"T_87589_row2_col10\" class=\"data row2 col10\" >0.525157</td>\n",
       "      <td id=\"T_87589_row2_col11\" class=\"data row2 col11\" >0.565222</td>\n",
       "      <td id=\"T_87589_row2_col12\" class=\"data row2 col12\" >0.604630</td>\n",
       "      <td id=\"T_87589_row2_col13\" class=\"data row2 col13\" >0.642999</td>\n",
       "      <td id=\"T_87589_row2_col14\" class=\"data row2 col14\" >0.679975</td>\n",
       "      <td id=\"T_87589_row2_col15\" class=\"data row2 col15\" >0.715244</td>\n",
       "    </tr>\n",
       "    <tr>\n",
       "      <th id=\"T_87589_level0_row3\" class=\"row_heading level0 row3\" >2500.0</th>\n",
       "      <td id=\"T_87589_row3_col0\" class=\"data row3 col0\" >0.204557</td>\n",
       "      <td id=\"T_87589_row3_col1\" class=\"data row3 col1\" >0.237712</td>\n",
       "      <td id=\"T_87589_row3_col2\" class=\"data row3 col2\" >0.273783</td>\n",
       "      <td id=\"T_87589_row3_col3\" class=\"data row3 col3\" >0.312482</td>\n",
       "      <td id=\"T_87589_row3_col4\" class=\"data row3 col4\" >0.353441</td>\n",
       "      <td id=\"T_87589_row3_col5\" class=\"data row3 col5\" >0.396218</td>\n",
       "      <td id=\"T_87589_row3_col6\" class=\"data row3 col6\" >0.440314</td>\n",
       "      <td id=\"T_87589_row3_col7\" class=\"data row3 col7\" >0.485182</td>\n",
       "      <td id=\"T_87589_row3_col8\" class=\"data row3 col8\" >0.530250</td>\n",
       "      <td id=\"T_87589_row3_col9\" class=\"data row3 col9\" >0.574940</td>\n",
       "      <td id=\"T_87589_row3_col10\" class=\"data row3 col10\" >0.618691</td>\n",
       "      <td id=\"T_87589_row3_col11\" class=\"data row3 col11\" >0.660978</td>\n",
       "      <td id=\"T_87589_row3_col12\" class=\"data row3 col12\" >0.701328</td>\n",
       "      <td id=\"T_87589_row3_col13\" class=\"data row3 col13\" >0.739342</td>\n",
       "      <td id=\"T_87589_row3_col14\" class=\"data row3 col14\" >0.774700</td>\n",
       "      <td id=\"T_87589_row3_col15\" class=\"data row3 col15\" >0.807169</td>\n",
       "    </tr>\n",
       "    <tr>\n",
       "      <th id=\"T_87589_level0_row4\" class=\"row_heading level0 row4\" >3000.0</th>\n",
       "      <td id=\"T_87589_row4_col0\" class=\"data row4 col0\" >0.236160</td>\n",
       "      <td id=\"T_87589_row4_col1\" class=\"data row4 col1\" >0.275684</td>\n",
       "      <td id=\"T_87589_row4_col2\" class=\"data row4 col2\" >0.318339</td>\n",
       "      <td id=\"T_87589_row4_col3\" class=\"data row4 col3\" >0.363631</td>\n",
       "      <td id=\"T_87589_row4_col4\" class=\"data row4 col4\" >0.410967</td>\n",
       "      <td id=\"T_87589_row4_col5\" class=\"data row4 col5\" >0.459668</td>\n",
       "      <td id=\"T_87589_row4_col6\" class=\"data row4 col6\" >0.509000</td>\n",
       "      <td id=\"T_87589_row4_col7\" class=\"data row4 col7\" >0.558207</td>\n",
       "      <td id=\"T_87589_row4_col8\" class=\"data row4 col8\" >0.606536</td>\n",
       "      <td id=\"T_87589_row4_col9\" class=\"data row4 col9\" >0.653279</td>\n",
       "      <td id=\"T_87589_row4_col10\" class=\"data row4 col10\" >0.697799</td>\n",
       "      <td id=\"T_87589_row4_col11\" class=\"data row4 col11\" >0.739556</td>\n",
       "      <td id=\"T_87589_row4_col12\" class=\"data row4 col12\" >0.778125</td>\n",
       "      <td id=\"T_87589_row4_col13\" class=\"data row4 col13\" >0.813207</td>\n",
       "      <td id=\"T_87589_row4_col14\" class=\"data row4 col14\" >0.844631</td>\n",
       "      <td id=\"T_87589_row4_col15\" class=\"data row4 col15\" >0.872351</td>\n",
       "    </tr>\n",
       "  </tbody>\n",
       "</table>\n"
      ],
      "text/plain": [
       "<pandas.io.formats.style.Styler at 0x7fb0b2dc1bb0>"
      ]
     },
     "execution_count": 10,
     "metadata": {},
     "output_type": "execute_result"
    }
   ],
   "source": [
    "def color_negative_red(val):\n",
    "    \"\"\"\n",
    "    Takes a scalar and returns a string with\n",
    "    the css property `'color: red'` for negative\n",
    "    strings, black otherwise.\n",
    "    \"\"\"\n",
    "    color = 'lightseagreen' if val >0.9 else 'limegreen' if val >0.8  else 'black'\n",
    "    return 'color: %s' % color\n",
    "res4 = res3.style.applymap(color_negative_red)\n",
    "res4"
   ]
  },
  {
   "cell_type": "code",
   "execution_count": null,
   "metadata": {},
   "outputs": [],
   "source": []
  }
 ],
 "metadata": {
  "colab": {
   "collapsed_sections": [],
   "name": "Рассчет выборки для АБ тестов.ipynb",
   "provenance": []
  },
  "kernelspec": {
   "display_name": "Python 3 (ipykernel)",
   "language": "python",
   "name": "python3"
  },
  "language_info": {
   "codemirror_mode": {
    "name": "ipython",
    "version": 3
   },
   "file_extension": ".py",
   "mimetype": "text/x-python",
   "name": "python",
   "nbconvert_exporter": "python",
   "pygments_lexer": "ipython3",
   "version": "3.9.7"
  }
 },
 "nbformat": 4,
 "nbformat_minor": 1
}
